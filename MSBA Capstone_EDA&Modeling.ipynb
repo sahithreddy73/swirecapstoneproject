{
 "cells": [
  {
   "cell_type": "markdown",
   "id": "020e6f0e",
   "metadata": {},
   "source": [
    "# MSBA CAPSTONE - Swire Coca-Cola Customer Success Prediction"
   ]
  },
  {
   "cell_type": "markdown",
   "id": "b4b9b828",
   "metadata": {},
   "source": [
    "# 1. Business Problem Statement"
   ]
  },
  {
   "cell_type": "markdown",
   "id": "45181fd8",
   "metadata": {},
   "source": [
    "### Local businesses significantly contribute to the growth of Swire Coca-Cola and over time the management has also recognized their importance and have decided to partner with them and build a sustainable business model which will be equal beneficial for them and make the partnership profitable.\n",
    "### The metrics like Business popularity, Longevity, 3-year volume sales etc. are useful in evaluation of profitability of each partner restaurant.\n"
   ]
  },
  {
   "cell_type": "markdown",
   "id": "8d008987",
   "metadata": {},
   "source": [
    "### The main objective of this Exploratory Data Analysis is to understand the relationship between variables which assist in finding out the profitable customer collaborations and accordingly the price and funding are decided. "
   ]
  },
  {
   "cell_type": "markdown",
   "id": "19795927",
   "metadata": {},
   "source": [
    "# Exploratory Data Analysis (EDA)\n"
   ]
  },
  {
   "cell_type": "markdown",
   "id": "60a1bcea",
   "metadata": {},
   "source": [
    "## Import Libraries"
   ]
  },
  {
   "cell_type": "code",
   "execution_count": 1,
   "id": "bfcef0b9",
   "metadata": {},
   "outputs": [],
   "source": [
    "import pandas as pd\n",
    "import numpy as np \n",
    "import matplotlib.pylab as plt\n",
    "import seaborn as sns\n",
    "plt.style.use('ggplot')\n",
    "from scipy.stats import pearsonr"
   ]
  },
  {
   "cell_type": "markdown",
   "id": "ae96aa95",
   "metadata": {},
   "source": [
    "## Import Datasets"
   ]
  },
  {
   "cell_type": "code",
   "execution_count": 2,
   "id": "ea9ebf3a",
   "metadata": {},
   "outputs": [],
   "source": [
    "customer_df = pd.read_excel('FSOP_Customer_Data_v2.0.xlsb', engine = 'pyxlsb')\n",
    "sales_df = pd.read_excel('FSOP_Sales_Data_v2.0.xlsb', engine = 'pyxlsb')"
   ]
  },
  {
   "cell_type": "markdown",
   "id": "3e15c8d7",
   "metadata": {},
   "source": [
    "## View the Dataset"
   ]
  },
  {
   "cell_type": "code",
   "execution_count": 3,
   "id": "58761b0d",
   "metadata": {
    "scrolled": false
   },
   "outputs": [
    {
     "data": {
      "text/html": [
       "<div>\n",
       "<style scoped>\n",
       "    .dataframe tbody tr th:only-of-type {\n",
       "        vertical-align: middle;\n",
       "    }\n",
       "\n",
       "    .dataframe tbody tr th {\n",
       "        vertical-align: top;\n",
       "    }\n",
       "\n",
       "    .dataframe thead th {\n",
       "        text-align: right;\n",
       "    }\n",
       "</style>\n",
       "<table border=\"1\" class=\"dataframe\">\n",
       "  <thead>\n",
       "    <tr style=\"text-align: right;\">\n",
       "      <th></th>\n",
       "      <th>CUSTOMER_NUMBER_BLINDED</th>\n",
       "      <th>SALES_OFFICE_DESCRIPTION</th>\n",
       "      <th>DELIVERY_PLANT_DESCRIPTION</th>\n",
       "      <th>ON_BOARDING_DATE</th>\n",
       "      <th>ADDRESS_CITY</th>\n",
       "      <th>ADDRESS_ZIP_CODE</th>\n",
       "      <th>COUNTY</th>\n",
       "      <th>GEO_LONGITUDE</th>\n",
       "      <th>GEO_LATITUDE</th>\n",
       "      <th>CUSTOMER_ACTIVITY_CLUSTER_DESCRIPTION</th>\n",
       "      <th>CUSTOMER_TRADE_CHANNEL_DESCRIPTION</th>\n",
       "      <th>CUSTOMER_SUB_TRADE_CHANNEL_DESCRIPTION</th>\n",
       "      <th>BUSINESS_TYPE_EXTENSION_DESCRIPTION</th>\n",
       "      <th>CUSTOMER_TRADE_CHANNEL_DESCRIPTION2</th>\n",
       "      <th>MARKET_DESCRIPTION</th>\n",
       "      <th>COLD_DRINK_CHANNEL_DESCRIPTION</th>\n",
       "    </tr>\n",
       "  </thead>\n",
       "  <tbody>\n",
       "    <tr>\n",
       "      <th>0</th>\n",
       "      <td>C0895044502170683</td>\n",
       "      <td>Tucson, AZ</td>\n",
       "      <td>Tucson, AZ</td>\n",
       "      <td>42772</td>\n",
       "      <td>TUCSON</td>\n",
       "      <td>85756-6948</td>\n",
       "      <td>PIMA</td>\n",
       "      <td>-110.928378</td>\n",
       "      <td>32.115937</td>\n",
       "      <td>Other Shopping &amp; Ser</td>\n",
       "      <td>General Merchandiser</td>\n",
       "      <td>Other General Mercha</td>\n",
       "      <td>DSD</td>\n",
       "      <td>General Merchandiser</td>\n",
       "      <td>FSOP</td>\n",
       "      <td>RETAIL</td>\n",
       "    </tr>\n",
       "    <tr>\n",
       "      <th>1</th>\n",
       "      <td>C0409008701210025</td>\n",
       "      <td>Tacoma, WA</td>\n",
       "      <td>Tacoma Sales Center, WA</td>\n",
       "      <td>39944</td>\n",
       "      <td>FORT LEWIS</td>\n",
       "      <td>98433</td>\n",
       "      <td>PIERCE</td>\n",
       "      <td>-122.587244</td>\n",
       "      <td>47.102365</td>\n",
       "      <td>Eating &amp; Drinking</td>\n",
       "      <td>Quick Service Restau</td>\n",
       "      <td>QSR-Pizza</td>\n",
       "      <td>DSD</td>\n",
       "      <td>Quick Service Restau</td>\n",
       "      <td>FSOP</td>\n",
       "      <td>EATING/DRINKING</td>\n",
       "    </tr>\n",
       "    <tr>\n",
       "      <th>2</th>\n",
       "      <td>C0278065006510168</td>\n",
       "      <td>Walla Walla, WA</td>\n",
       "      <td>Walla Walla, WA</td>\n",
       "      <td>38035</td>\n",
       "      <td>COLLEGE PLACE</td>\n",
       "      <td>99324-9730</td>\n",
       "      <td>WALLA WALLA</td>\n",
       "      <td>-118.373040</td>\n",
       "      <td>46.052920</td>\n",
       "      <td>Other Shopping &amp; Ser</td>\n",
       "      <td>General Merchandiser</td>\n",
       "      <td>Hardware/Home-Improv</td>\n",
       "      <td>DSD</td>\n",
       "      <td>General Merchandiser</td>\n",
       "      <td>FSOP</td>\n",
       "      <td>RETAIL</td>\n",
       "    </tr>\n",
       "    <tr>\n",
       "      <th>3</th>\n",
       "      <td>C0559043803480412</td>\n",
       "      <td>Prescott, AZ</td>\n",
       "      <td>Glendale, AZ</td>\n",
       "      <td>34215</td>\n",
       "      <td>PRESCOTT</td>\n",
       "      <td>86301-3313</td>\n",
       "      <td>YAVAPAI</td>\n",
       "      <td>-112.450490</td>\n",
       "      <td>34.545020</td>\n",
       "      <td>Travel/Transportatio</td>\n",
       "      <td>Lodging</td>\n",
       "      <td>Other Lodging</td>\n",
       "      <td>DSD</td>\n",
       "      <td>Lodging</td>\n",
       "      <td>FSOP</td>\n",
       "      <td>LODGING</td>\n",
       "    </tr>\n",
       "    <tr>\n",
       "      <th>4</th>\n",
       "      <td>C0729091103720749</td>\n",
       "      <td>Reno, NV</td>\n",
       "      <td>Reno, NV</td>\n",
       "      <td>41990</td>\n",
       "      <td>SOUTH LAKE TAHOE</td>\n",
       "      <td>96150-7702</td>\n",
       "      <td>EL DORADO</td>\n",
       "      <td>-119.984227</td>\n",
       "      <td>38.926637</td>\n",
       "      <td>Other Shopping &amp; Ser</td>\n",
       "      <td>Automotive Services</td>\n",
       "      <td>Other Automotive Ser</td>\n",
       "      <td>DSD</td>\n",
       "      <td>Automotive Services</td>\n",
       "      <td>FSOP</td>\n",
       "      <td>RETAIL</td>\n",
       "    </tr>\n",
       "    <tr>\n",
       "      <th>5</th>\n",
       "      <td>C0291037806480104</td>\n",
       "      <td>Albuquerque, NM</td>\n",
       "      <td>Albuquerque, NM</td>\n",
       "      <td>38155</td>\n",
       "      <td>ALBUQUERQUE</td>\n",
       "      <td>87123-3626</td>\n",
       "      <td>BERNALILLO</td>\n",
       "      <td>-106.529874</td>\n",
       "      <td>35.070479</td>\n",
       "      <td>Other Shopping &amp; Ser</td>\n",
       "      <td>General Merchandiser</td>\n",
       "      <td>Hardware/Home-Improv</td>\n",
       "      <td>DSD</td>\n",
       "      <td>General Merchandiser</td>\n",
       "      <td>FSOP</td>\n",
       "      <td>RETAIL</td>\n",
       "    </tr>\n",
       "    <tr>\n",
       "      <th>6</th>\n",
       "      <td>C0295075205560876</td>\n",
       "      <td>Denver, CO</td>\n",
       "      <td>Denver, CO</td>\n",
       "      <td>41652</td>\n",
       "      <td>LAKEWOOD</td>\n",
       "      <td>80215</td>\n",
       "      <td>JEFFERSON</td>\n",
       "      <td>-105.117785</td>\n",
       "      <td>39.740125</td>\n",
       "      <td>Other Shopping &amp; Ser</td>\n",
       "      <td>Automotive Services</td>\n",
       "      <td>Other Automotive Ser</td>\n",
       "      <td>DSD</td>\n",
       "      <td>Automotive Services</td>\n",
       "      <td>FSOP</td>\n",
       "      <td>RETAIL</td>\n",
       "    </tr>\n",
       "    <tr>\n",
       "      <th>7</th>\n",
       "      <td>C0302036401720464</td>\n",
       "      <td>Tempe, AZ</td>\n",
       "      <td>Tempe, AZ</td>\n",
       "      <td>35844</td>\n",
       "      <td>CASA GRANDE</td>\n",
       "      <td>85122-3905</td>\n",
       "      <td>PINAL</td>\n",
       "      <td>-111.756510</td>\n",
       "      <td>32.882576</td>\n",
       "      <td>Other Shopping &amp; Ser</td>\n",
       "      <td>Automotive Services</td>\n",
       "      <td>Other Automotive Ser</td>\n",
       "      <td>DSD</td>\n",
       "      <td>Automotive Services</td>\n",
       "      <td>FSOP</td>\n",
       "      <td>RETAIL</td>\n",
       "    </tr>\n",
       "    <tr>\n",
       "      <th>8</th>\n",
       "      <td>C0208028100360467</td>\n",
       "      <td>Wilsonville, OR</td>\n",
       "      <td>Wilsonville, OR</td>\n",
       "      <td>44293</td>\n",
       "      <td>PORTLAND</td>\n",
       "      <td>97218-1009</td>\n",
       "      <td>MULTNOMAH</td>\n",
       "      <td>-122.591624</td>\n",
       "      <td>45.586179</td>\n",
       "      <td>Other Shopping &amp; Ser</td>\n",
       "      <td>General Merchandiser</td>\n",
       "      <td>Other General Mercha</td>\n",
       "      <td>DSD</td>\n",
       "      <td>General Merchandiser</td>\n",
       "      <td>FSOP</td>\n",
       "      <td>RETAIL</td>\n",
       "    </tr>\n",
       "    <tr>\n",
       "      <th>9</th>\n",
       "      <td>C0543085301160999</td>\n",
       "      <td>Albuquerque, NM</td>\n",
       "      <td>Albuquerque, NM</td>\n",
       "      <td>37585</td>\n",
       "      <td>ALBUQUERQUE</td>\n",
       "      <td>87106-3247</td>\n",
       "      <td>BERNALILLO</td>\n",
       "      <td>-106.617273</td>\n",
       "      <td>35.047758</td>\n",
       "      <td>Other Shopping &amp; Ser</td>\n",
       "      <td>General Merchandiser</td>\n",
       "      <td>Other General Mercha</td>\n",
       "      <td>DSD</td>\n",
       "      <td>General Merchandiser</td>\n",
       "      <td>FSOP</td>\n",
       "      <td>RETAIL</td>\n",
       "    </tr>\n",
       "  </tbody>\n",
       "</table>\n",
       "</div>"
      ],
      "text/plain": [
       "  CUSTOMER_NUMBER_BLINDED SALES_OFFICE_DESCRIPTION DELIVERY_PLANT_DESCRIPTION  \\\n",
       "0       C0895044502170683               Tucson, AZ                 Tucson, AZ   \n",
       "1       C0409008701210025               Tacoma, WA    Tacoma Sales Center, WA   \n",
       "2       C0278065006510168          Walla Walla, WA            Walla Walla, WA   \n",
       "3       C0559043803480412             Prescott, AZ               Glendale, AZ   \n",
       "4       C0729091103720749                 Reno, NV                   Reno, NV   \n",
       "5       C0291037806480104          Albuquerque, NM            Albuquerque, NM   \n",
       "6       C0295075205560876               Denver, CO                 Denver, CO   \n",
       "7       C0302036401720464                Tempe, AZ                  Tempe, AZ   \n",
       "8       C0208028100360467          Wilsonville, OR            Wilsonville, OR   \n",
       "9       C0543085301160999          Albuquerque, NM            Albuquerque, NM   \n",
       "\n",
       "   ON_BOARDING_DATE      ADDRESS_CITY ADDRESS_ZIP_CODE       COUNTY  \\\n",
       "0             42772            TUCSON       85756-6948         PIMA   \n",
       "1             39944        FORT LEWIS            98433       PIERCE   \n",
       "2             38035     COLLEGE PLACE       99324-9730  WALLA WALLA   \n",
       "3             34215          PRESCOTT       86301-3313      YAVAPAI   \n",
       "4             41990  SOUTH LAKE TAHOE       96150-7702    EL DORADO   \n",
       "5             38155       ALBUQUERQUE       87123-3626   BERNALILLO   \n",
       "6             41652          LAKEWOOD            80215    JEFFERSON   \n",
       "7             35844       CASA GRANDE       85122-3905        PINAL   \n",
       "8             44293          PORTLAND       97218-1009    MULTNOMAH   \n",
       "9             37585       ALBUQUERQUE       87106-3247   BERNALILLO   \n",
       "\n",
       "   GEO_LONGITUDE  GEO_LATITUDE CUSTOMER_ACTIVITY_CLUSTER_DESCRIPTION  \\\n",
       "0    -110.928378     32.115937                  Other Shopping & Ser   \n",
       "1    -122.587244     47.102365                     Eating & Drinking   \n",
       "2    -118.373040     46.052920                  Other Shopping & Ser   \n",
       "3    -112.450490     34.545020                  Travel/Transportatio   \n",
       "4    -119.984227     38.926637                  Other Shopping & Ser   \n",
       "5    -106.529874     35.070479                  Other Shopping & Ser   \n",
       "6    -105.117785     39.740125                  Other Shopping & Ser   \n",
       "7    -111.756510     32.882576                  Other Shopping & Ser   \n",
       "8    -122.591624     45.586179                  Other Shopping & Ser   \n",
       "9    -106.617273     35.047758                  Other Shopping & Ser   \n",
       "\n",
       "  CUSTOMER_TRADE_CHANNEL_DESCRIPTION CUSTOMER_SUB_TRADE_CHANNEL_DESCRIPTION  \\\n",
       "0               General Merchandiser                   Other General Mercha   \n",
       "1               Quick Service Restau                              QSR-Pizza   \n",
       "2               General Merchandiser                   Hardware/Home-Improv   \n",
       "3                            Lodging                          Other Lodging   \n",
       "4                Automotive Services                   Other Automotive Ser   \n",
       "5               General Merchandiser                   Hardware/Home-Improv   \n",
       "6                Automotive Services                   Other Automotive Ser   \n",
       "7                Automotive Services                   Other Automotive Ser   \n",
       "8               General Merchandiser                   Other General Mercha   \n",
       "9               General Merchandiser                   Other General Mercha   \n",
       "\n",
       "  BUSINESS_TYPE_EXTENSION_DESCRIPTION CUSTOMER_TRADE_CHANNEL_DESCRIPTION2  \\\n",
       "0                                 DSD                General Merchandiser   \n",
       "1                                 DSD                Quick Service Restau   \n",
       "2                                 DSD                General Merchandiser   \n",
       "3                                 DSD                             Lodging   \n",
       "4                                 DSD                 Automotive Services   \n",
       "5                                 DSD                General Merchandiser   \n",
       "6                                 DSD                 Automotive Services   \n",
       "7                                 DSD                 Automotive Services   \n",
       "8                                 DSD                General Merchandiser   \n",
       "9                                 DSD                General Merchandiser   \n",
       "\n",
       "  MARKET_DESCRIPTION COLD_DRINK_CHANNEL_DESCRIPTION  \n",
       "0               FSOP                         RETAIL  \n",
       "1               FSOP                EATING/DRINKING  \n",
       "2               FSOP                         RETAIL  \n",
       "3               FSOP                        LODGING  \n",
       "4               FSOP                         RETAIL  \n",
       "5               FSOP                         RETAIL  \n",
       "6               FSOP                         RETAIL  \n",
       "7               FSOP                         RETAIL  \n",
       "8               FSOP                         RETAIL  \n",
       "9               FSOP                         RETAIL  "
      ]
     },
     "execution_count": 3,
     "metadata": {},
     "output_type": "execute_result"
    }
   ],
   "source": [
    "# top ten rows in customer dataset\n",
    "customer_df.head(10)"
   ]
  },
  {
   "cell_type": "code",
   "execution_count": 4,
   "id": "b37abe9d",
   "metadata": {},
   "outputs": [
    {
     "data": {
      "text/html": [
       "<div>\n",
       "<style scoped>\n",
       "    .dataframe tbody tr th:only-of-type {\n",
       "        vertical-align: middle;\n",
       "    }\n",
       "\n",
       "    .dataframe tbody tr th {\n",
       "        vertical-align: top;\n",
       "    }\n",
       "\n",
       "    .dataframe thead th {\n",
       "        text-align: right;\n",
       "    }\n",
       "</style>\n",
       "<table border=\"1\" class=\"dataframe\">\n",
       "  <thead>\n",
       "    <tr style=\"text-align: right;\">\n",
       "      <th></th>\n",
       "      <th>CUSTOMER_NUMBER_BLINDED</th>\n",
       "      <th>PRODUCT_SOLD_BLINDED</th>\n",
       "      <th>BEV_CAT_DESC</th>\n",
       "      <th>CALORIE_CAT_DESC</th>\n",
       "      <th>PACK_TYPE_DESC</th>\n",
       "      <th>PACK_SIZE_SALES_UNIT_DESCRIPTION</th>\n",
       "      <th>PHYSICAL_VOLUME</th>\n",
       "      <th>DISCOUNT</th>\n",
       "      <th>INVOICE_PRICE</th>\n",
       "      <th>DEAD_NET</th>\n",
       "      <th>GROSS_PROFIT_DEAD_NET</th>\n",
       "      <th>COGS</th>\n",
       "      <th>MIN_POSTING_DATE</th>\n",
       "      <th>MAX_POSTING_DATE</th>\n",
       "      <th>NUM_OF_TRANSACTIONS</th>\n",
       "    </tr>\n",
       "  </thead>\n",
       "  <tbody>\n",
       "    <tr>\n",
       "      <th>0</th>\n",
       "      <td>C0051046109640797</td>\n",
       "      <td>M056203880974</td>\n",
       "      <td>CORE SPARKLING</td>\n",
       "      <td>REGULAR CALORIE</td>\n",
       "      <td>Plastic Bottle - Contour</td>\n",
       "      <td>20 OZ 1-Ls 24</td>\n",
       "      <td>88.000</td>\n",
       "      <td>2246.40</td>\n",
       "      <td>2505.60</td>\n",
       "      <td>1924.70</td>\n",
       "      <td>1112.73</td>\n",
       "      <td>682.41</td>\n",
       "      <td>44208</td>\n",
       "      <td>44925</td>\n",
       "      <td>157</td>\n",
       "    </tr>\n",
       "    <tr>\n",
       "      <th>1</th>\n",
       "      <td>C0348074302380406</td>\n",
       "      <td>M042308250090</td>\n",
       "      <td>CORE SPARKLING</td>\n",
       "      <td>LOW CALORIE</td>\n",
       "      <td>Aluminum Can - Sleek</td>\n",
       "      <td>12 OZ 4-Pk 24</td>\n",
       "      <td>58.000</td>\n",
       "      <td>1197.12</td>\n",
       "      <td>1666.92</td>\n",
       "      <td>1468.77</td>\n",
       "      <td>316.19</td>\n",
       "      <td>1185.98</td>\n",
       "      <td>44229</td>\n",
       "      <td>44925</td>\n",
       "      <td>40</td>\n",
       "    </tr>\n",
       "    <tr>\n",
       "      <th>2</th>\n",
       "      <td>C0277089703710223</td>\n",
       "      <td>M010605530774</td>\n",
       "      <td>TEA</td>\n",
       "      <td>LOW CALORIE</td>\n",
       "      <td>Plastic Bottle - Other</td>\n",
       "      <td>18.5 OZ 1-Ls 12</td>\n",
       "      <td>108.000</td>\n",
       "      <td>3429.00</td>\n",
       "      <td>1755.00</td>\n",
       "      <td>1499.03</td>\n",
       "      <td>403.25</td>\n",
       "      <td>1107.73</td>\n",
       "      <td>44627</td>\n",
       "      <td>44925</td>\n",
       "      <td>62</td>\n",
       "    </tr>\n",
       "    <tr>\n",
       "      <th>3</th>\n",
       "      <td>C0112072503650635</td>\n",
       "      <td>M050800200648</td>\n",
       "      <td>ENERGY DRINKS</td>\n",
       "      <td>REGULAR CALORIE</td>\n",
       "      <td>Aluminum Can</td>\n",
       "      <td>16 OZ 1-Ls 24</td>\n",
       "      <td>15.000</td>\n",
       "      <td>307.12</td>\n",
       "      <td>592.88</td>\n",
       "      <td>553.18</td>\n",
       "      <td>77.90</td>\n",
       "      <td>475.28</td>\n",
       "      <td>44721</td>\n",
       "      <td>44925</td>\n",
       "      <td>17</td>\n",
       "    </tr>\n",
       "    <tr>\n",
       "      <th>4</th>\n",
       "      <td>C0305009008200279</td>\n",
       "      <td>M009608400345</td>\n",
       "      <td>CORE SPARKLING</td>\n",
       "      <td>REGULAR CALORIE</td>\n",
       "      <td>Plastic Bottle - Dimple</td>\n",
       "      <td>2 LTR 1-Ls 8</td>\n",
       "      <td>195.000</td>\n",
       "      <td>3382.05</td>\n",
       "      <td>2077.95</td>\n",
       "      <td>1812.90</td>\n",
       "      <td>661.21</td>\n",
       "      <td>1416.99</td>\n",
       "      <td>44201</td>\n",
       "      <td>44925</td>\n",
       "      <td>166</td>\n",
       "    </tr>\n",
       "    <tr>\n",
       "      <th>5</th>\n",
       "      <td>C0095084905960864</td>\n",
       "      <td>M000802070510</td>\n",
       "      <td>ENHANCED WATER BEVERAGES</td>\n",
       "      <td>LOW CALORIE</td>\n",
       "      <td>Plastic Bottle - Other</td>\n",
       "      <td>23.7 OZ 1-Ls 12</td>\n",
       "      <td>0.000</td>\n",
       "      <td>0.00</td>\n",
       "      <td>0.00</td>\n",
       "      <td>8.68</td>\n",
       "      <td>4.85</td>\n",
       "      <td>0.00</td>\n",
       "      <td>44412</td>\n",
       "      <td>44446</td>\n",
       "      <td>5</td>\n",
       "    </tr>\n",
       "    <tr>\n",
       "      <th>6</th>\n",
       "      <td>C0717039509940498</td>\n",
       "      <td>M098309760842</td>\n",
       "      <td>ENHANCED WATER BEVERAGES</td>\n",
       "      <td>LOW CALORIE</td>\n",
       "      <td>Plastic Bottle - Other</td>\n",
       "      <td>20 OZ 1-Ls 12</td>\n",
       "      <td>220.000</td>\n",
       "      <td>6068.81</td>\n",
       "      <td>3641.19</td>\n",
       "      <td>3577.73</td>\n",
       "      <td>1131.96</td>\n",
       "      <td>2112.88</td>\n",
       "      <td>44203</td>\n",
       "      <td>44925</td>\n",
       "      <td>156</td>\n",
       "    </tr>\n",
       "    <tr>\n",
       "      <th>7</th>\n",
       "      <td>C0143015807360957</td>\n",
       "      <td>M099807940026</td>\n",
       "      <td>CORE SPARKLING</td>\n",
       "      <td>LOW CALORIE</td>\n",
       "      <td>Aluminum Can</td>\n",
       "      <td>12 OZ 12-Pk 24 Frid</td>\n",
       "      <td>900.000</td>\n",
       "      <td>16549.36</td>\n",
       "      <td>10450.64</td>\n",
       "      <td>10196.98</td>\n",
       "      <td>4410.75</td>\n",
       "      <td>5974.83</td>\n",
       "      <td>44239</td>\n",
       "      <td>44925</td>\n",
       "      <td>107</td>\n",
       "    </tr>\n",
       "    <tr>\n",
       "      <th>8</th>\n",
       "      <td>C0726003400050379</td>\n",
       "      <td>M015409520904</td>\n",
       "      <td>CORE SPARKLING</td>\n",
       "      <td>LOW CALORIE</td>\n",
       "      <td>Plastic Bottle - Contour</td>\n",
       "      <td>2 LTR 1-Ls 8</td>\n",
       "      <td>35.625</td>\n",
       "      <td>620.94</td>\n",
       "      <td>376.56</td>\n",
       "      <td>330.09</td>\n",
       "      <td>167.13</td>\n",
       "      <td>252.36</td>\n",
       "      <td>44225</td>\n",
       "      <td>44926</td>\n",
       "      <td>46</td>\n",
       "    </tr>\n",
       "    <tr>\n",
       "      <th>9</th>\n",
       "      <td>C0345065304710619</td>\n",
       "      <td>M095505780097</td>\n",
       "      <td>CORE SPARKLING</td>\n",
       "      <td>REGULAR CALORIE</td>\n",
       "      <td>Plastic Bottle - Dimple</td>\n",
       "      <td>20 OZ 1-Ls 24</td>\n",
       "      <td>10.000</td>\n",
       "      <td>322.80</td>\n",
       "      <td>177.60</td>\n",
       "      <td>175.77</td>\n",
       "      <td>93.13</td>\n",
       "      <td>76.36</td>\n",
       "      <td>44249</td>\n",
       "      <td>44925</td>\n",
       "      <td>46</td>\n",
       "    </tr>\n",
       "  </tbody>\n",
       "</table>\n",
       "</div>"
      ],
      "text/plain": [
       "  CUSTOMER_NUMBER_BLINDED PRODUCT_SOLD_BLINDED              BEV_CAT_DESC  \\\n",
       "0       C0051046109640797        M056203880974            CORE SPARKLING   \n",
       "1       C0348074302380406        M042308250090            CORE SPARKLING   \n",
       "2       C0277089703710223        M010605530774                       TEA   \n",
       "3       C0112072503650635        M050800200648             ENERGY DRINKS   \n",
       "4       C0305009008200279        M009608400345            CORE SPARKLING   \n",
       "5       C0095084905960864        M000802070510  ENHANCED WATER BEVERAGES   \n",
       "6       C0717039509940498        M098309760842  ENHANCED WATER BEVERAGES   \n",
       "7       C0143015807360957        M099807940026            CORE SPARKLING   \n",
       "8       C0726003400050379        M015409520904            CORE SPARKLING   \n",
       "9       C0345065304710619        M095505780097            CORE SPARKLING   \n",
       "\n",
       "  CALORIE_CAT_DESC            PACK_TYPE_DESC PACK_SIZE_SALES_UNIT_DESCRIPTION  \\\n",
       "0  REGULAR CALORIE  Plastic Bottle - Contour                    20 OZ 1-Ls 24   \n",
       "1      LOW CALORIE      Aluminum Can - Sleek                    12 OZ 4-Pk 24   \n",
       "2      LOW CALORIE    Plastic Bottle - Other                  18.5 OZ 1-Ls 12   \n",
       "3  REGULAR CALORIE              Aluminum Can                    16 OZ 1-Ls 24   \n",
       "4  REGULAR CALORIE   Plastic Bottle - Dimple                     2 LTR 1-Ls 8   \n",
       "5      LOW CALORIE    Plastic Bottle - Other                  23.7 OZ 1-Ls 12   \n",
       "6      LOW CALORIE    Plastic Bottle - Other                    20 OZ 1-Ls 12   \n",
       "7      LOW CALORIE              Aluminum Can              12 OZ 12-Pk 24 Frid   \n",
       "8      LOW CALORIE  Plastic Bottle - Contour                     2 LTR 1-Ls 8   \n",
       "9  REGULAR CALORIE   Plastic Bottle - Dimple                    20 OZ 1-Ls 24   \n",
       "\n",
       "   PHYSICAL_VOLUME  DISCOUNT  INVOICE_PRICE  DEAD_NET  GROSS_PROFIT_DEAD_NET  \\\n",
       "0           88.000   2246.40        2505.60   1924.70                1112.73   \n",
       "1           58.000   1197.12        1666.92   1468.77                 316.19   \n",
       "2          108.000   3429.00        1755.00   1499.03                 403.25   \n",
       "3           15.000    307.12         592.88    553.18                  77.90   \n",
       "4          195.000   3382.05        2077.95   1812.90                 661.21   \n",
       "5            0.000      0.00           0.00      8.68                   4.85   \n",
       "6          220.000   6068.81        3641.19   3577.73                1131.96   \n",
       "7          900.000  16549.36       10450.64  10196.98                4410.75   \n",
       "8           35.625    620.94         376.56    330.09                 167.13   \n",
       "9           10.000    322.80         177.60    175.77                  93.13   \n",
       "\n",
       "      COGS  MIN_POSTING_DATE  MAX_POSTING_DATE  NUM_OF_TRANSACTIONS  \n",
       "0   682.41             44208             44925                  157  \n",
       "1  1185.98             44229             44925                   40  \n",
       "2  1107.73             44627             44925                   62  \n",
       "3   475.28             44721             44925                   17  \n",
       "4  1416.99             44201             44925                  166  \n",
       "5     0.00             44412             44446                    5  \n",
       "6  2112.88             44203             44925                  156  \n",
       "7  5974.83             44239             44925                  107  \n",
       "8   252.36             44225             44926                   46  \n",
       "9    76.36             44249             44925                   46  "
      ]
     },
     "execution_count": 4,
     "metadata": {},
     "output_type": "execute_result"
    }
   ],
   "source": [
    "#top ten rows in sales dataset\n",
    "sales_df.head(10)"
   ]
  },
  {
   "cell_type": "code",
   "execution_count": 5,
   "id": "0fa561df",
   "metadata": {},
   "outputs": [
    {
     "data": {
      "text/plain": [
       "1558"
      ]
     },
     "execution_count": 5,
     "metadata": {},
     "output_type": "execute_result"
    }
   ],
   "source": [
    "#check how many unique prodcuts are sold\n",
    "sales_df['PRODUCT_SOLD_BLINDED'].nunique()"
   ]
  },
  {
   "cell_type": "markdown",
   "id": "feef76f2",
   "metadata": {},
   "source": [
    "## Merge Datasets"
   ]
  },
  {
   "cell_type": "markdown",
   "id": "73f45ffe",
   "metadata": {},
   "source": [
    "### Merge sales and customer datasets"
   ]
  },
  {
   "cell_type": "code",
   "execution_count": 6,
   "id": "5b731b93",
   "metadata": {},
   "outputs": [
    {
     "data": {
      "text/html": [
       "<div>\n",
       "<style scoped>\n",
       "    .dataframe tbody tr th:only-of-type {\n",
       "        vertical-align: middle;\n",
       "    }\n",
       "\n",
       "    .dataframe tbody tr th {\n",
       "        vertical-align: top;\n",
       "    }\n",
       "\n",
       "    .dataframe thead th {\n",
       "        text-align: right;\n",
       "    }\n",
       "</style>\n",
       "<table border=\"1\" class=\"dataframe\">\n",
       "  <thead>\n",
       "    <tr style=\"text-align: right;\">\n",
       "      <th></th>\n",
       "      <th>CUSTOMER_NUMBER_BLINDED</th>\n",
       "      <th>PRODUCT_SOLD_BLINDED</th>\n",
       "      <th>BEV_CAT_DESC</th>\n",
       "      <th>CALORIE_CAT_DESC</th>\n",
       "      <th>PACK_TYPE_DESC</th>\n",
       "      <th>PACK_SIZE_SALES_UNIT_DESCRIPTION</th>\n",
       "      <th>PHYSICAL_VOLUME</th>\n",
       "      <th>DISCOUNT</th>\n",
       "      <th>INVOICE_PRICE</th>\n",
       "      <th>DEAD_NET</th>\n",
       "      <th>...</th>\n",
       "      <th>COUNTY</th>\n",
       "      <th>GEO_LONGITUDE</th>\n",
       "      <th>GEO_LATITUDE</th>\n",
       "      <th>CUSTOMER_ACTIVITY_CLUSTER_DESCRIPTION</th>\n",
       "      <th>CUSTOMER_TRADE_CHANNEL_DESCRIPTION</th>\n",
       "      <th>CUSTOMER_SUB_TRADE_CHANNEL_DESCRIPTION</th>\n",
       "      <th>BUSINESS_TYPE_EXTENSION_DESCRIPTION</th>\n",
       "      <th>CUSTOMER_TRADE_CHANNEL_DESCRIPTION2</th>\n",
       "      <th>MARKET_DESCRIPTION</th>\n",
       "      <th>COLD_DRINK_CHANNEL_DESCRIPTION</th>\n",
       "    </tr>\n",
       "  </thead>\n",
       "  <tbody>\n",
       "    <tr>\n",
       "      <th>0</th>\n",
       "      <td>C0051046109640797</td>\n",
       "      <td>M056203880974</td>\n",
       "      <td>CORE SPARKLING</td>\n",
       "      <td>REGULAR CALORIE</td>\n",
       "      <td>Plastic Bottle - Contour</td>\n",
       "      <td>20 OZ 1-Ls 24</td>\n",
       "      <td>88.0</td>\n",
       "      <td>2246.40</td>\n",
       "      <td>2505.60</td>\n",
       "      <td>1924.70</td>\n",
       "      <td>...</td>\n",
       "      <td>MARICOPA</td>\n",
       "      <td>-111.895906</td>\n",
       "      <td>33.299225</td>\n",
       "      <td>Other Shopping &amp; Ser</td>\n",
       "      <td>General Merchandiser</td>\n",
       "      <td>Other General Mercha</td>\n",
       "      <td>DSD</td>\n",
       "      <td>General Merchandiser</td>\n",
       "      <td>FSOP</td>\n",
       "      <td>RETAIL</td>\n",
       "    </tr>\n",
       "    <tr>\n",
       "      <th>1</th>\n",
       "      <td>C0051046109640797</td>\n",
       "      <td>M083804460042</td>\n",
       "      <td>ENHANCED WATER BEVERAGES</td>\n",
       "      <td>REGULAR CALORIE</td>\n",
       "      <td>Plastic Bottle - Other</td>\n",
       "      <td>20 OZ 1-Ls 12</td>\n",
       "      <td>49.0</td>\n",
       "      <td>1154.52</td>\n",
       "      <td>987.48</td>\n",
       "      <td>825.74</td>\n",
       "      <td>...</td>\n",
       "      <td>MARICOPA</td>\n",
       "      <td>-111.895906</td>\n",
       "      <td>33.299225</td>\n",
       "      <td>Other Shopping &amp; Ser</td>\n",
       "      <td>General Merchandiser</td>\n",
       "      <td>Other General Mercha</td>\n",
       "      <td>DSD</td>\n",
       "      <td>General Merchandiser</td>\n",
       "      <td>FSOP</td>\n",
       "      <td>RETAIL</td>\n",
       "    </tr>\n",
       "    <tr>\n",
       "      <th>2</th>\n",
       "      <td>C0051046109640797</td>\n",
       "      <td>M080903130702</td>\n",
       "      <td>ENHANCED WATER BEVERAGES</td>\n",
       "      <td>LOW CALORIE</td>\n",
       "      <td>Plastic Bottle - Other</td>\n",
       "      <td>1 LTR 1-Ls 12</td>\n",
       "      <td>1.0</td>\n",
       "      <td>23.52</td>\n",
       "      <td>24.48</td>\n",
       "      <td>18.33</td>\n",
       "      <td>...</td>\n",
       "      <td>MARICOPA</td>\n",
       "      <td>-111.895906</td>\n",
       "      <td>33.299225</td>\n",
       "      <td>Other Shopping &amp; Ser</td>\n",
       "      <td>General Merchandiser</td>\n",
       "      <td>Other General Mercha</td>\n",
       "      <td>DSD</td>\n",
       "      <td>General Merchandiser</td>\n",
       "      <td>FSOP</td>\n",
       "      <td>RETAIL</td>\n",
       "    </tr>\n",
       "    <tr>\n",
       "      <th>3</th>\n",
       "      <td>C0051046109640797</td>\n",
       "      <td>M009208500468</td>\n",
       "      <td>ENHANCED WATER BEVERAGES</td>\n",
       "      <td>REGULAR CALORIE</td>\n",
       "      <td>Plastic Bottle - Other</td>\n",
       "      <td>20 OZ 1-Ls 12</td>\n",
       "      <td>0.0</td>\n",
       "      <td>0.00</td>\n",
       "      <td>0.00</td>\n",
       "      <td>0.21</td>\n",
       "      <td>...</td>\n",
       "      <td>MARICOPA</td>\n",
       "      <td>-111.895906</td>\n",
       "      <td>33.299225</td>\n",
       "      <td>Other Shopping &amp; Ser</td>\n",
       "      <td>General Merchandiser</td>\n",
       "      <td>Other General Mercha</td>\n",
       "      <td>DSD</td>\n",
       "      <td>General Merchandiser</td>\n",
       "      <td>FSOP</td>\n",
       "      <td>RETAIL</td>\n",
       "    </tr>\n",
       "    <tr>\n",
       "      <th>4</th>\n",
       "      <td>C0051046109640797</td>\n",
       "      <td>M029507850412</td>\n",
       "      <td>ENHANCED WATER BEVERAGES</td>\n",
       "      <td>LOW CALORIE</td>\n",
       "      <td>Plastic Bottle - Other</td>\n",
       "      <td>1 LTR 1-Ls 12</td>\n",
       "      <td>2.0</td>\n",
       "      <td>47.04</td>\n",
       "      <td>48.96</td>\n",
       "      <td>36.61</td>\n",
       "      <td>...</td>\n",
       "      <td>MARICOPA</td>\n",
       "      <td>-111.895906</td>\n",
       "      <td>33.299225</td>\n",
       "      <td>Other Shopping &amp; Ser</td>\n",
       "      <td>General Merchandiser</td>\n",
       "      <td>Other General Mercha</td>\n",
       "      <td>DSD</td>\n",
       "      <td>General Merchandiser</td>\n",
       "      <td>FSOP</td>\n",
       "      <td>RETAIL</td>\n",
       "    </tr>\n",
       "    <tr>\n",
       "      <th>...</th>\n",
       "      <td>...</td>\n",
       "      <td>...</td>\n",
       "      <td>...</td>\n",
       "      <td>...</td>\n",
       "      <td>...</td>\n",
       "      <td>...</td>\n",
       "      <td>...</td>\n",
       "      <td>...</td>\n",
       "      <td>...</td>\n",
       "      <td>...</td>\n",
       "      <td>...</td>\n",
       "      <td>...</td>\n",
       "      <td>...</td>\n",
       "      <td>...</td>\n",
       "      <td>...</td>\n",
       "      <td>...</td>\n",
       "      <td>...</td>\n",
       "      <td>...</td>\n",
       "      <td>...</td>\n",
       "      <td>...</td>\n",
       "      <td>...</td>\n",
       "    </tr>\n",
       "    <tr>\n",
       "      <th>831839</th>\n",
       "      <td>C0779075600590854</td>\n",
       "      <td>M093805490555</td>\n",
       "      <td>COFFEE</td>\n",
       "      <td>REGULAR CALORIE</td>\n",
       "      <td>Plastic Bottle - Other</td>\n",
       "      <td>13.7 OZ 1-Ls 12</td>\n",
       "      <td>0.0</td>\n",
       "      <td>0.00</td>\n",
       "      <td>0.00</td>\n",
       "      <td>0.00</td>\n",
       "      <td>...</td>\n",
       "      <td>LANE</td>\n",
       "      <td>-123.158000</td>\n",
       "      <td>44.062955</td>\n",
       "      <td>Third Party (Non-Con</td>\n",
       "      <td>All Other</td>\n",
       "      <td>B2B CONTRACTUAL DIST</td>\n",
       "      <td>Secondary Volume</td>\n",
       "      <td>All Other</td>\n",
       "      <td>ALL OTHER</td>\n",
       "      <td>WHOLESALE</td>\n",
       "    </tr>\n",
       "    <tr>\n",
       "      <th>831840</th>\n",
       "      <td>C0737058205910387</td>\n",
       "      <td>M093201520599</td>\n",
       "      <td>CORE SPARKLING</td>\n",
       "      <td>LOW CALORIE</td>\n",
       "      <td>Aluminum Can</td>\n",
       "      <td>12 OZ 12-Pk 24 Frid</td>\n",
       "      <td>0.0</td>\n",
       "      <td>0.00</td>\n",
       "      <td>0.00</td>\n",
       "      <td>0.00</td>\n",
       "      <td>...</td>\n",
       "      <td>MULTNOMAH</td>\n",
       "      <td>-122.679910</td>\n",
       "      <td>45.514470</td>\n",
       "      <td>Third Party (Non-Con</td>\n",
       "      <td>All Other</td>\n",
       "      <td>B2B CONTRACTUAL DIST</td>\n",
       "      <td>Secondary Volume</td>\n",
       "      <td>All Other</td>\n",
       "      <td>ALL OTHER</td>\n",
       "      <td>WHOLESALE</td>\n",
       "    </tr>\n",
       "    <tr>\n",
       "      <th>831841</th>\n",
       "      <td>C0733097206680354</td>\n",
       "      <td>M099404020717</td>\n",
       "      <td>CORE SPARKLING</td>\n",
       "      <td>REGULAR CALORIE</td>\n",
       "      <td>Aluminum Can</td>\n",
       "      <td>12 OZ 12-Pk 24 Frid</td>\n",
       "      <td>0.0</td>\n",
       "      <td>0.00</td>\n",
       "      <td>0.00</td>\n",
       "      <td>0.00</td>\n",
       "      <td>...</td>\n",
       "      <td>COCHISE</td>\n",
       "      <td>-109.870710</td>\n",
       "      <td>32.223515</td>\n",
       "      <td>Third Party (Non-Con</td>\n",
       "      <td>All Other</td>\n",
       "      <td>B2B CONTRACTUAL DIST</td>\n",
       "      <td>Secondary Volume</td>\n",
       "      <td>All Other</td>\n",
       "      <td>ALL OTHER</td>\n",
       "      <td>WHOLESALE</td>\n",
       "    </tr>\n",
       "    <tr>\n",
       "      <th>831842</th>\n",
       "      <td>C0623013105750204</td>\n",
       "      <td>M005008880997</td>\n",
       "      <td>PACKAGED WATER (PLAIN &amp; ENRICHED)</td>\n",
       "      <td>LOW CALORIE</td>\n",
       "      <td>Plastic Bottle - Other</td>\n",
       "      <td>16.9 OZ 32-Pk 32</td>\n",
       "      <td>0.0</td>\n",
       "      <td>0.00</td>\n",
       "      <td>0.00</td>\n",
       "      <td>0.00</td>\n",
       "      <td>...</td>\n",
       "      <td>WASHOE</td>\n",
       "      <td>-119.786958</td>\n",
       "      <td>39.478349</td>\n",
       "      <td>Eating &amp; Drinking</td>\n",
       "      <td>Full Service Restaur</td>\n",
       "      <td>FSR-All Other</td>\n",
       "      <td>Equipment Only</td>\n",
       "      <td>Full Service Restaur</td>\n",
       "      <td>FSOP</td>\n",
       "      <td>EATING/DRINKING</td>\n",
       "    </tr>\n",
       "    <tr>\n",
       "      <th>831843</th>\n",
       "      <td>C0160068705170267</td>\n",
       "      <td>M099807940026</td>\n",
       "      <td>CORE SPARKLING</td>\n",
       "      <td>LOW CALORIE</td>\n",
       "      <td>Aluminum Can</td>\n",
       "      <td>12 OZ 12-Pk 24 Frid</td>\n",
       "      <td>0.0</td>\n",
       "      <td>0.00</td>\n",
       "      <td>0.00</td>\n",
       "      <td>0.00</td>\n",
       "      <td>...</td>\n",
       "      <td>DOUGLAS</td>\n",
       "      <td>-119.938042</td>\n",
       "      <td>38.980396</td>\n",
       "      <td>Third Party (Non-Con</td>\n",
       "      <td>All Other</td>\n",
       "      <td>B2B CONTRACTUAL DIST</td>\n",
       "      <td>Secondary Volume</td>\n",
       "      <td>All Other</td>\n",
       "      <td>ALL OTHER</td>\n",
       "      <td>WHOLESALE</td>\n",
       "    </tr>\n",
       "  </tbody>\n",
       "</table>\n",
       "<p>831844 rows × 30 columns</p>\n",
       "</div>"
      ],
      "text/plain": [
       "       CUSTOMER_NUMBER_BLINDED PRODUCT_SOLD_BLINDED  \\\n",
       "0            C0051046109640797        M056203880974   \n",
       "1            C0051046109640797        M083804460042   \n",
       "2            C0051046109640797        M080903130702   \n",
       "3            C0051046109640797        M009208500468   \n",
       "4            C0051046109640797        M029507850412   \n",
       "...                        ...                  ...   \n",
       "831839       C0779075600590854        M093805490555   \n",
       "831840       C0737058205910387        M093201520599   \n",
       "831841       C0733097206680354        M099404020717   \n",
       "831842       C0623013105750204        M005008880997   \n",
       "831843       C0160068705170267        M099807940026   \n",
       "\n",
       "                             BEV_CAT_DESC CALORIE_CAT_DESC  \\\n",
       "0                          CORE SPARKLING  REGULAR CALORIE   \n",
       "1                ENHANCED WATER BEVERAGES  REGULAR CALORIE   \n",
       "2                ENHANCED WATER BEVERAGES      LOW CALORIE   \n",
       "3                ENHANCED WATER BEVERAGES  REGULAR CALORIE   \n",
       "4                ENHANCED WATER BEVERAGES      LOW CALORIE   \n",
       "...                                   ...              ...   \n",
       "831839                             COFFEE  REGULAR CALORIE   \n",
       "831840                     CORE SPARKLING      LOW CALORIE   \n",
       "831841                     CORE SPARKLING  REGULAR CALORIE   \n",
       "831842  PACKAGED WATER (PLAIN & ENRICHED)      LOW CALORIE   \n",
       "831843                     CORE SPARKLING      LOW CALORIE   \n",
       "\n",
       "                  PACK_TYPE_DESC PACK_SIZE_SALES_UNIT_DESCRIPTION  \\\n",
       "0       Plastic Bottle - Contour                    20 OZ 1-Ls 24   \n",
       "1         Plastic Bottle - Other                    20 OZ 1-Ls 12   \n",
       "2         Plastic Bottle - Other                    1 LTR 1-Ls 12   \n",
       "3         Plastic Bottle - Other                    20 OZ 1-Ls 12   \n",
       "4         Plastic Bottle - Other                    1 LTR 1-Ls 12   \n",
       "...                          ...                              ...   \n",
       "831839    Plastic Bottle - Other                  13.7 OZ 1-Ls 12   \n",
       "831840              Aluminum Can              12 OZ 12-Pk 24 Frid   \n",
       "831841              Aluminum Can              12 OZ 12-Pk 24 Frid   \n",
       "831842    Plastic Bottle - Other                 16.9 OZ 32-Pk 32   \n",
       "831843              Aluminum Can              12 OZ 12-Pk 24 Frid   \n",
       "\n",
       "        PHYSICAL_VOLUME  DISCOUNT  INVOICE_PRICE  DEAD_NET  ...     COUNTY  \\\n",
       "0                  88.0   2246.40        2505.60   1924.70  ...   MARICOPA   \n",
       "1                  49.0   1154.52         987.48    825.74  ...   MARICOPA   \n",
       "2                   1.0     23.52          24.48     18.33  ...   MARICOPA   \n",
       "3                   0.0      0.00           0.00      0.21  ...   MARICOPA   \n",
       "4                   2.0     47.04          48.96     36.61  ...   MARICOPA   \n",
       "...                 ...       ...            ...       ...  ...        ...   \n",
       "831839              0.0      0.00           0.00      0.00  ...       LANE   \n",
       "831840              0.0      0.00           0.00      0.00  ...  MULTNOMAH   \n",
       "831841              0.0      0.00           0.00      0.00  ...    COCHISE   \n",
       "831842              0.0      0.00           0.00      0.00  ...     WASHOE   \n",
       "831843              0.0      0.00           0.00      0.00  ...    DOUGLAS   \n",
       "\n",
       "        GEO_LONGITUDE  GEO_LATITUDE  CUSTOMER_ACTIVITY_CLUSTER_DESCRIPTION  \\\n",
       "0         -111.895906     33.299225                   Other Shopping & Ser   \n",
       "1         -111.895906     33.299225                   Other Shopping & Ser   \n",
       "2         -111.895906     33.299225                   Other Shopping & Ser   \n",
       "3         -111.895906     33.299225                   Other Shopping & Ser   \n",
       "4         -111.895906     33.299225                   Other Shopping & Ser   \n",
       "...               ...           ...                                    ...   \n",
       "831839    -123.158000     44.062955                   Third Party (Non-Con   \n",
       "831840    -122.679910     45.514470                   Third Party (Non-Con   \n",
       "831841    -109.870710     32.223515                   Third Party (Non-Con   \n",
       "831842    -119.786958     39.478349                      Eating & Drinking   \n",
       "831843    -119.938042     38.980396                   Third Party (Non-Con   \n",
       "\n",
       "        CUSTOMER_TRADE_CHANNEL_DESCRIPTION  \\\n",
       "0                     General Merchandiser   \n",
       "1                     General Merchandiser   \n",
       "2                     General Merchandiser   \n",
       "3                     General Merchandiser   \n",
       "4                     General Merchandiser   \n",
       "...                                    ...   \n",
       "831839                           All Other   \n",
       "831840                           All Other   \n",
       "831841                           All Other   \n",
       "831842                Full Service Restaur   \n",
       "831843                           All Other   \n",
       "\n",
       "       CUSTOMER_SUB_TRADE_CHANNEL_DESCRIPTION  \\\n",
       "0                        Other General Mercha   \n",
       "1                        Other General Mercha   \n",
       "2                        Other General Mercha   \n",
       "3                        Other General Mercha   \n",
       "4                        Other General Mercha   \n",
       "...                                       ...   \n",
       "831839                   B2B CONTRACTUAL DIST   \n",
       "831840                   B2B CONTRACTUAL DIST   \n",
       "831841                   B2B CONTRACTUAL DIST   \n",
       "831842                          FSR-All Other   \n",
       "831843                   B2B CONTRACTUAL DIST   \n",
       "\n",
       "       BUSINESS_TYPE_EXTENSION_DESCRIPTION  \\\n",
       "0                                      DSD   \n",
       "1                                      DSD   \n",
       "2                                      DSD   \n",
       "3                                      DSD   \n",
       "4                                      DSD   \n",
       "...                                    ...   \n",
       "831839                    Secondary Volume   \n",
       "831840                    Secondary Volume   \n",
       "831841                    Secondary Volume   \n",
       "831842                      Equipment Only   \n",
       "831843                    Secondary Volume   \n",
       "\n",
       "        CUSTOMER_TRADE_CHANNEL_DESCRIPTION2 MARKET_DESCRIPTION  \\\n",
       "0                      General Merchandiser               FSOP   \n",
       "1                      General Merchandiser               FSOP   \n",
       "2                      General Merchandiser               FSOP   \n",
       "3                      General Merchandiser               FSOP   \n",
       "4                      General Merchandiser               FSOP   \n",
       "...                                     ...                ...   \n",
       "831839                            All Other          ALL OTHER   \n",
       "831840                            All Other          ALL OTHER   \n",
       "831841                            All Other          ALL OTHER   \n",
       "831842                 Full Service Restaur               FSOP   \n",
       "831843                            All Other          ALL OTHER   \n",
       "\n",
       "       COLD_DRINK_CHANNEL_DESCRIPTION  \n",
       "0                              RETAIL  \n",
       "1                              RETAIL  \n",
       "2                              RETAIL  \n",
       "3                              RETAIL  \n",
       "4                              RETAIL  \n",
       "...                               ...  \n",
       "831839                      WHOLESALE  \n",
       "831840                      WHOLESALE  \n",
       "831841                      WHOLESALE  \n",
       "831842                EATING/DRINKING  \n",
       "831843                      WHOLESALE  \n",
       "\n",
       "[831844 rows x 30 columns]"
      ]
     },
     "execution_count": 6,
     "metadata": {},
     "output_type": "execute_result"
    }
   ],
   "source": [
    "swire_df = sales_df.merge(customer_df, on='CUSTOMER_NUMBER_BLINDED', how= 'inner')\n",
    "swire_df"
   ]
  },
  {
   "cell_type": "code",
   "execution_count": 7,
   "id": "a3be3359",
   "metadata": {},
   "outputs": [
    {
     "data": {
      "text/plain": [
       "CUSTOMER_NUMBER_BLINDED                   False\n",
       "PRODUCT_SOLD_BLINDED                      False\n",
       "BEV_CAT_DESC                               True\n",
       "CALORIE_CAT_DESC                           True\n",
       "PACK_TYPE_DESC                            False\n",
       "PACK_SIZE_SALES_UNIT_DESCRIPTION          False\n",
       "PHYSICAL_VOLUME                           False\n",
       "DISCOUNT                                  False\n",
       "INVOICE_PRICE                             False\n",
       "DEAD_NET                                  False\n",
       "GROSS_PROFIT_DEAD_NET                     False\n",
       "COGS                                      False\n",
       "MIN_POSTING_DATE                          False\n",
       "MAX_POSTING_DATE                          False\n",
       "NUM_OF_TRANSACTIONS                       False\n",
       "SALES_OFFICE_DESCRIPTION                  False\n",
       "DELIVERY_PLANT_DESCRIPTION                False\n",
       "ON_BOARDING_DATE                          False\n",
       "ADDRESS_CITY                              False\n",
       "ADDRESS_ZIP_CODE                          False\n",
       "COUNTY                                     True\n",
       "GEO_LONGITUDE                             False\n",
       "GEO_LATITUDE                              False\n",
       "CUSTOMER_ACTIVITY_CLUSTER_DESCRIPTION     False\n",
       "CUSTOMER_TRADE_CHANNEL_DESCRIPTION        False\n",
       "CUSTOMER_SUB_TRADE_CHANNEL_DESCRIPTION    False\n",
       "BUSINESS_TYPE_EXTENSION_DESCRIPTION       False\n",
       "CUSTOMER_TRADE_CHANNEL_DESCRIPTION2       False\n",
       "MARKET_DESCRIPTION                        False\n",
       "COLD_DRINK_CHANNEL_DESCRIPTION            False\n",
       "dtype: bool"
      ]
     },
     "execution_count": 7,
     "metadata": {},
     "output_type": "execute_result"
    }
   ],
   "source": [
    "# Check for null values\n",
    "swire_df.isnull().any()"
   ]
  },
  {
   "cell_type": "code",
   "execution_count": 8,
   "id": "6316e07a",
   "metadata": {},
   "outputs": [
    {
     "data": {
      "text/plain": [
       "0"
      ]
     },
     "execution_count": 8,
     "metadata": {},
     "output_type": "execute_result"
    }
   ],
   "source": [
    "#check for duplicates\n",
    "swire_df.duplicated().sum()"
   ]
  },
  {
   "cell_type": "code",
   "execution_count": 9,
   "id": "97e05881",
   "metadata": {},
   "outputs": [
    {
     "data": {
      "text/plain": [
       "Index(['CUSTOMER_NUMBER_BLINDED', 'PRODUCT_SOLD_BLINDED', 'BEV_CAT_DESC',\n",
       "       'CALORIE_CAT_DESC', 'PACK_TYPE_DESC',\n",
       "       'PACK_SIZE_SALES_UNIT_DESCRIPTION', 'PHYSICAL_VOLUME', 'DISCOUNT',\n",
       "       'INVOICE_PRICE', 'DEAD_NET', 'GROSS_PROFIT_DEAD_NET', 'COGS',\n",
       "       'MIN_POSTING_DATE', 'MAX_POSTING_DATE', 'NUM_OF_TRANSACTIONS',\n",
       "       'SALES_OFFICE_DESCRIPTION', 'DELIVERY_PLANT_DESCRIPTION',\n",
       "       'ON_BOARDING_DATE', 'ADDRESS_CITY', 'ADDRESS_ZIP_CODE', 'COUNTY',\n",
       "       'GEO_LONGITUDE', 'GEO_LATITUDE',\n",
       "       'CUSTOMER_ACTIVITY_CLUSTER_DESCRIPTION',\n",
       "       'CUSTOMER_TRADE_CHANNEL_DESCRIPTION',\n",
       "       'CUSTOMER_SUB_TRADE_CHANNEL_DESCRIPTION',\n",
       "       'BUSINESS_TYPE_EXTENSION_DESCRIPTION',\n",
       "       'CUSTOMER_TRADE_CHANNEL_DESCRIPTION2', 'MARKET_DESCRIPTION',\n",
       "       'COLD_DRINK_CHANNEL_DESCRIPTION'],\n",
       "      dtype='object')"
      ]
     },
     "execution_count": 9,
     "metadata": {},
     "output_type": "execute_result"
    }
   ],
   "source": [
    "#Variables in the merged dataset\n",
    "swire_df.columns"
   ]
  },
  {
   "cell_type": "code",
   "execution_count": 10,
   "id": "8f3b5b77",
   "metadata": {},
   "outputs": [
    {
     "data": {
      "text/html": [
       "<div>\n",
       "<style scoped>\n",
       "    .dataframe tbody tr th:only-of-type {\n",
       "        vertical-align: middle;\n",
       "    }\n",
       "\n",
       "    .dataframe tbody tr th {\n",
       "        vertical-align: top;\n",
       "    }\n",
       "\n",
       "    .dataframe thead th {\n",
       "        text-align: right;\n",
       "    }\n",
       "</style>\n",
       "<table border=\"1\" class=\"dataframe\">\n",
       "  <thead>\n",
       "    <tr style=\"text-align: right;\">\n",
       "      <th></th>\n",
       "      <th>PHYSICAL_VOLUME</th>\n",
       "      <th>DISCOUNT</th>\n",
       "      <th>INVOICE_PRICE</th>\n",
       "      <th>DEAD_NET</th>\n",
       "      <th>GROSS_PROFIT_DEAD_NET</th>\n",
       "      <th>COGS</th>\n",
       "      <th>NUM_OF_TRANSACTIONS</th>\n",
       "    </tr>\n",
       "  </thead>\n",
       "  <tbody>\n",
       "    <tr>\n",
       "      <th>count</th>\n",
       "      <td>831844.000000</td>\n",
       "      <td>8.318440e+05</td>\n",
       "      <td>8.318440e+05</td>\n",
       "      <td>8.318440e+05</td>\n",
       "      <td>831844.000000</td>\n",
       "      <td>8.318440e+05</td>\n",
       "      <td>831844.000000</td>\n",
       "    </tr>\n",
       "    <tr>\n",
       "      <th>mean</th>\n",
       "      <td>36.216629</td>\n",
       "      <td>1.003791e+03</td>\n",
       "      <td>9.264490e+02</td>\n",
       "      <td>8.452765e+02</td>\n",
       "      <td>294.968306</td>\n",
       "      <td>5.802669e+02</td>\n",
       "      <td>21.227132</td>\n",
       "    </tr>\n",
       "    <tr>\n",
       "      <th>std</th>\n",
       "      <td>564.497164</td>\n",
       "      <td>1.333821e+04</td>\n",
       "      <td>8.980693e+03</td>\n",
       "      <td>7.750886e+03</td>\n",
       "      <td>2631.942989</td>\n",
       "      <td>5.575562e+03</td>\n",
       "      <td>33.455899</td>\n",
       "    </tr>\n",
       "    <tr>\n",
       "      <th>min</th>\n",
       "      <td>-65832.000000</td>\n",
       "      <td>-1.390200e+04</td>\n",
       "      <td>-2.298240e+04</td>\n",
       "      <td>-3.453411e+04</td>\n",
       "      <td>-145562.380000</td>\n",
       "      <td>-7.392340e+03</td>\n",
       "      <td>1.000000</td>\n",
       "    </tr>\n",
       "    <tr>\n",
       "      <th>25%</th>\n",
       "      <td>1.000000</td>\n",
       "      <td>1.764000e+01</td>\n",
       "      <td>3.110000e+01</td>\n",
       "      <td>2.928000e+01</td>\n",
       "      <td>8.620000</td>\n",
       "      <td>1.246000e+01</td>\n",
       "      <td>2.000000</td>\n",
       "    </tr>\n",
       "    <tr>\n",
       "      <th>50%</th>\n",
       "      <td>5.000000</td>\n",
       "      <td>9.000000e+01</td>\n",
       "      <td>1.367900e+02</td>\n",
       "      <td>1.300000e+02</td>\n",
       "      <td>44.800000</td>\n",
       "      <td>7.270000e+01</td>\n",
       "      <td>7.000000</td>\n",
       "    </tr>\n",
       "    <tr>\n",
       "      <th>75%</th>\n",
       "      <td>17.000000</td>\n",
       "      <td>4.134000e+02</td>\n",
       "      <td>5.234200e+02</td>\n",
       "      <td>5.000000e+02</td>\n",
       "      <td>181.940000</td>\n",
       "      <td>2.976700e+02</td>\n",
       "      <td>24.000000</td>\n",
       "    </tr>\n",
       "    <tr>\n",
       "      <th>max</th>\n",
       "      <td>136349.000000</td>\n",
       "      <td>2.847662e+06</td>\n",
       "      <td>1.813004e+06</td>\n",
       "      <td>1.813004e+06</td>\n",
       "      <td>883618.130000</td>\n",
       "      <td>1.370468e+06</td>\n",
       "      <td>468.000000</td>\n",
       "    </tr>\n",
       "  </tbody>\n",
       "</table>\n",
       "</div>"
      ],
      "text/plain": [
       "       PHYSICAL_VOLUME      DISCOUNT  INVOICE_PRICE      DEAD_NET  \\\n",
       "count    831844.000000  8.318440e+05   8.318440e+05  8.318440e+05   \n",
       "mean         36.216629  1.003791e+03   9.264490e+02  8.452765e+02   \n",
       "std         564.497164  1.333821e+04   8.980693e+03  7.750886e+03   \n",
       "min      -65832.000000 -1.390200e+04  -2.298240e+04 -3.453411e+04   \n",
       "25%           1.000000  1.764000e+01   3.110000e+01  2.928000e+01   \n",
       "50%           5.000000  9.000000e+01   1.367900e+02  1.300000e+02   \n",
       "75%          17.000000  4.134000e+02   5.234200e+02  5.000000e+02   \n",
       "max      136349.000000  2.847662e+06   1.813004e+06  1.813004e+06   \n",
       "\n",
       "       GROSS_PROFIT_DEAD_NET          COGS  NUM_OF_TRANSACTIONS  \n",
       "count          831844.000000  8.318440e+05        831844.000000  \n",
       "mean              294.968306  5.802669e+02            21.227132  \n",
       "std              2631.942989  5.575562e+03            33.455899  \n",
       "min           -145562.380000 -7.392340e+03             1.000000  \n",
       "25%                 8.620000  1.246000e+01             2.000000  \n",
       "50%                44.800000  7.270000e+01             7.000000  \n",
       "75%               181.940000  2.976700e+02            24.000000  \n",
       "max            883618.130000  1.370468e+06           468.000000  "
      ]
     },
     "execution_count": 10,
     "metadata": {},
     "output_type": "execute_result"
    }
   ],
   "source": [
    "# statistical summary of the merged dataset\n",
    "swire_df[['PHYSICAL_VOLUME','DISCOUNT','INVOICE_PRICE','DEAD_NET','GROSS_PROFIT_DEAD_NET','COGS','NUM_OF_TRANSACTIONS']].describe()"
   ]
  },
  {
   "cell_type": "markdown",
   "id": "ee8c754c",
   "metadata": {},
   "source": [
    "## Exploratory questions to infer insights from the dataset"
   ]
  },
  {
   "cell_type": "markdown",
   "id": "5e8e8543",
   "metadata": {},
   "source": [
    "## 1. What category of beverage has more market?"
   ]
  },
  {
   "cell_type": "code",
   "execution_count": 11,
   "id": "8a8c8af1",
   "metadata": {},
   "outputs": [],
   "source": [
    "# Group the data by Beverage category \n",
    "Bev_counts = swire_df.groupby('BEV_CAT_DESC')['BEV_CAT_DESC'].count()"
   ]
  },
  {
   "cell_type": "code",
   "execution_count": 12,
   "id": "8d558eb6",
   "metadata": {},
   "outputs": [],
   "source": [
    "#sort the data by category \n",
    "Bev_counts = Bev_counts.sort_values(ascending=False)"
   ]
  },
  {
   "cell_type": "code",
   "execution_count": 13,
   "id": "6f8723b0",
   "metadata": {},
   "outputs": [],
   "source": [
    "top_Bev = Bev_counts[:]"
   ]
  },
  {
   "cell_type": "code",
   "execution_count": 14,
   "id": "b55c0f23",
   "metadata": {},
   "outputs": [
    {
     "data": {
      "image/png": "[encoded data removed]",
      "text/plain": [
       "<Figure size 640x480 with 1 Axes>"
      ]
     },
     "metadata": {},
     "output_type": "display_data"
    }
   ],
   "source": [
    "# Plot the Bar chart\n",
    "top_Bev.plot(kind='bar')\n",
    "plt.title('Top Beverage Category')\n",
    "plt.xlabel('Bev Category')\n",
    "plt.ylabel('Count')\n",
    "plt.show()"
   ]
  },
  {
   "cell_type": "markdown",
   "id": "4ab0d2e3",
   "metadata": {},
   "source": [
    "### Core sparkling has the highest sales when compared to other categories. It is evident that the company is concentrating on the core sparkling category but it should also promote energy drinks and sports drinks to expand its customer base and build market share in those categories. "
   ]
  },
  {
   "cell_type": "markdown",
   "id": "dd25c61d",
   "metadata": {},
   "source": [
    "## 2. How are discounts effecting the sales of the products?"
   ]
  },
  {
   "cell_type": "code",
   "execution_count": 15,
   "id": "75133735",
   "metadata": {},
   "outputs": [],
   "source": [
    "# Filter only positive sales value\n",
    "swire_df = swire_df[swire_df['PHYSICAL_VOLUME'] >= 0]"
   ]
  },
  {
   "cell_type": "code",
   "execution_count": 16,
   "id": "e193d407",
   "metadata": {},
   "outputs": [],
   "source": [
    "avg_discount = swire_df['DISCOUNT'].mean()\n",
    "avg_sales = swire_df['PHYSICAL_VOLUME'].mean()"
   ]
  },
  {
   "cell_type": "code",
   "execution_count": 17,
   "id": "63d85898",
   "metadata": {},
   "outputs": [
    {
     "data": {
      "image/png": "[encoded data removed]",
      "text/plain": [
       "<Figure size 640x480 with 1 Axes>"
      ]
     },
     "metadata": {},
     "output_type": "display_data"
    }
   ],
   "source": [
    "# Plot the scatterplot graph for discount and physical volume\n",
    "plt.scatter(swire_df['DISCOUNT'], swire_df['PHYSICAL_VOLUME'])\n",
    "plt.xlabel('Discount')\n",
    "plt.ylabel('Sales')\n",
    "plt.title('Correlation Plot for Discounts and Sales')\n",
    "plt.show()"
   ]
  },
  {
   "cell_type": "code",
   "execution_count": 18,
   "id": "eef0fa93",
   "metadata": {},
   "outputs": [
    {
     "name": "stdout",
     "output_type": "stream",
     "text": [
      "Correlation coefficient: 0.943\n"
     ]
    }
   ],
   "source": [
    "corr, _ = pearsonr(swire_df['DISCOUNT'], swire_df['PHYSICAL_VOLUME'])\n",
    "print('Correlation coefficient: %.3f' % corr)"
   ]
  },
  {
   "cell_type": "markdown",
   "id": "e40f46d0",
   "metadata": {},
   "source": [
    "### It is observed that as discounts increase the sales of products, we can conclude that discounts and competitive pricing are very important factors to maintain and build customer base. A correlation factor of 0.926 is a clear indicator that sales are directly impacted by the discounts provided by the firm."
   ]
  },
  {
   "cell_type": "markdown",
   "id": "fbff5435",
   "metadata": {},
   "source": [
    "## 3. How do discounts effects profits and what is the relation between sales, discounts and profits? "
   ]
  },
  {
   "cell_type": "code",
   "execution_count": 19,
   "id": "4947dc95",
   "metadata": {},
   "outputs": [],
   "source": [
    "# mean of discounts and profits\n",
    "avg_discount = swire_df['DISCOUNT'].mean()\n",
    "avg_profit = swire_df['GROSS_PROFIT_DEAD_NET'].mean()"
   ]
  },
  {
   "cell_type": "code",
   "execution_count": 20,
   "id": "b40de967",
   "metadata": {},
   "outputs": [
    {
     "name": "stderr",
     "output_type": "stream",
     "text": [
      "/var/folders/xr/7hx_r70s5b7gb5ywpt62kj3r0000gr/T/ipykernel_2217/2438073455.py:1: FutureWarning: The default value of numeric_only in DataFrameGroupBy.mean is deprecated. In a future version, numeric_only will default to False. Either specify numeric_only or select only columns which should be valid for the function.\n",
      "  dis = swire_df.groupby('DISCOUNT').mean()\n"
     ]
    }
   ],
   "source": [
    "# group by discounts\n",
    "dis = swire_df.groupby('DISCOUNT').mean()"
   ]
  },
  {
   "cell_type": "code",
   "execution_count": 21,
   "id": "66f62f7c",
   "metadata": {},
   "outputs": [
    {
     "data": {
      "image/png": "[encoded data removed]",
      "text/plain": [
       "<Figure size 640x480 with 1 Axes>"
      ]
     },
     "metadata": {},
     "output_type": "display_data"
    }
   ],
   "source": [
    "# Plot a graph with discounts and gross profit \n",
    "plt.scatter(swire_df['DISCOUNT'], swire_df['GROSS_PROFIT_DEAD_NET'])\n",
    "plt.xlabel('Discount')\n",
    "plt.ylabel('Profit')\n",
    "plt.title('Correlation Plot for Discounts and Profits')\n",
    "plt.show()"
   ]
  },
  {
   "cell_type": "markdown",
   "id": "ff001d86",
   "metadata": {},
   "source": [
    "### The discounts and sales are having a positive correlation from which we can infer that profits increase when discounts are provided but when we look at the sale metrics in relation to the discounts they have a stronger correlation. It is clear that giving discounts is increasing sales but that doesn't transalate to higher profits.  "
   ]
  },
  {
   "cell_type": "markdown",
   "id": "53a9cc2a",
   "metadata": {},
   "source": [
    "## 4. What are the trade Channels which provide highest business for Swire?"
   ]
  },
  {
   "cell_type": "code",
   "execution_count": 23,
   "id": "a15d97f4",
   "metadata": {},
   "outputs": [],
   "source": [
    "best_trade_channel = trade_channel.sort_values(ascending=False)"
   ]
  },
  {
   "cell_type": "code",
   "execution_count": 24,
   "id": "46cb11a5",
   "metadata": {},
   "outputs": [],
   "source": [
    "best_trade_channel_count = best_trade_channel[:]"
   ]
  },
  {
   "cell_type": "code",
   "execution_count": 25,
   "id": "c5c09fef",
   "metadata": {},
   "outputs": [
    {
     "data": {
      "image/png": "[encoded data removed]",
      "text/plain": [
       "<Figure size 640x480 with 1 Axes>"
      ]
     },
     "metadata": {},
     "output_type": "display_data"
    }
   ],
   "source": [
    "#Plot the Bar chart\n",
    "best_trade_channel_count.plot(kind='bar', color = 'green')\n",
    "plt.title('Trade Channel')\n",
    "plt.xlabel('Trade Channel Type')\n",
    "plt.ylabel('Count')\n",
    "plt.show()"
   ]
  },
  {
   "cell_type": "markdown",
   "id": "3dee2f23",
   "metadata": {},
   "source": [
    "### The top 5 trade channels provide high sales than the rest combined, considering this we can say that swire can be more confident to collaborate with the customers who operate in  the top 5 trade channels."
   ]
  },
  {
   "cell_type": "markdown",
   "id": "31fbcc81",
   "metadata": {},
   "source": [
    "## Final Observations"
   ]
  },
  {
   "cell_type": "markdown",
   "id": "c1fca259",
   "metadata": {},
   "source": [
    "### The correlation between sales and discount shows that a partnership is successful with high sales if the company provides discounts proportionally but the comany should also make sure that the profitability is not compromised . The comany has already built a strong presence with its core sparkling beverages but there is room for improvement to build its sports and energy drink business as the are the second and third most consumed products from its portfolio. Further the comany can confidently colaborate with restaurants, supermarkets and grocery stores where they have a proven record of successfully selling high volumes of stock."
   ]
  },
  {
   "cell_type": "markdown",
   "id": "b4401fc0",
   "metadata": {},
   "source": [
    "# Modeling "
   ]
  },
  {
   "cell_type": "markdown",
   "id": "668ee220",
   "metadata": {},
   "source": [
    "### Here linear regression and random forest model have been deployed to predict the profitable customer swire can collaborate. "
   ]
  },
  {
   "cell_type": "code",
   "execution_count": 41,
   "id": "b318e6c3",
   "metadata": {},
   "outputs": [],
   "source": [
    "#import libraries \n",
    "import pandas as pd\n",
    "from sklearn.linear_model import LinearRegression\n",
    "from sklearn.ensemble import RandomForestRegressor\n",
    "from sklearn.model_selection import train_test_split\n",
    "from sklearn.metrics import mean_squared_error, r2_score\n",
    "from sklearn.impute import SimpleImputer\n",
    "from sklearn.model_selection import cross_val_score\n"
   ]
  },
  {
   "cell_type": "markdown",
   "id": "f623f229",
   "metadata": {},
   "source": [
    "## Linear Regression Model"
   ]
  },
  {
   "cell_type": "markdown",
   "id": "937c2db5",
   "metadata": {},
   "source": [
    "### Linear regression is performed on the merged dataset and taking the financial metrics into consideration and keeping sales volume(Physical Volume as target variable). The model is trained with variables like discounts, invoice price(revenue) and dead_net( profit after advertising expenses) which are directly related to sales volume.   "
   ]
  },
  {
   "cell_type": "code",
   "execution_count": 84,
   "id": "9fb94171",
   "metadata": {},
   "outputs": [],
   "source": [
    "# read and select relevant columns\n",
    "swire_df = swire_df[['PHYSICAL_VOLUME', 'DISCOUNT', 'INVOICE_PRICE', 'DEAD_NET']]"
   ]
  },
  {
   "cell_type": "code",
   "execution_count": 38,
   "id": "17663f17",
   "metadata": {},
   "outputs": [],
   "source": [
    "# Split the data into training and testing sets\n",
    "X_train, X_test, y_train, y_test = train_test_split(swire_df[['DISCOUNT', 'INVOICE_PRICE', 'DEAD_NET']], swire_df['PHYSICAL_VOLUME'], test_size=0.2, random_state=42)"
   ]
  },
  {
   "cell_type": "code",
   "execution_count": 39,
   "id": "ab5b4284",
   "metadata": {},
   "outputs": [
    {
     "data": {
      "text/plain": [
       "LinearRegression()"
      ]
     },
     "execution_count": 39,
     "metadata": {},
     "output_type": "execute_result"
    }
   ],
   "source": [
    "# Fiting a linear regression model to the training data\n",
    "regressor = LinearRegression()\n",
    "regressor.fit(X_train, y_train)"
   ]
  },
  {
   "cell_type": "code",
   "execution_count": 40,
   "id": "bf70a8f7",
   "metadata": {},
   "outputs": [],
   "source": [
    "# Making predictions on the testing data\n",
    "y_pred = regressor.predict(X_test)"
   ]
  },
  {
   "cell_type": "code",
   "execution_count": 41,
   "id": "89b8c6d0",
   "metadata": {},
   "outputs": [
    {
     "name": "stdout",
     "output_type": "stream",
     "text": [
      "Root mean squared error: 170.9645287535092\n",
      "R-squared value: 0.8995708534156123\n"
     ]
    }
   ],
   "source": [
    "# Evaluating the model using rmse and R- Squared Value\n",
    "rmse = mean_squared_error(y_test, y_pred, squared=False)\n",
    "r2 = r2_score(y_test, y_pred)\n",
    "print(\"Root mean squared error:\", rmse)\n",
    "print(\"R-squared value:\", r2)"
   ]
  },
  {
   "cell_type": "markdown",
   "id": "7c29e9c8",
   "metadata": {},
   "source": [
    "### The rmse value of 170.96  and r-squared value 0.8995 shows that this is a effective model but the disadvantage of this model is that there it can't accommodate more variables and especially categorical variables."
   ]
  },
  {
   "cell_type": "code",
   "execution_count": 63,
   "id": "500cc45f",
   "metadata": {},
   "outputs": [],
   "source": [
    "# Perform 5- fold Cross-Validation\n",
    "cv_scores = cross_val_score(regressor, swire_df[['DISCOUNT', 'INVOICE_PRICE', 'DEAD_NET']], swire_df['PHYSICAL_VOLUME'], cv=5)"
   ]
  },
  {
   "cell_type": "code",
   "execution_count": 64,
   "id": "c3ac6425",
   "metadata": {},
   "outputs": [
    {
     "name": "stdout",
     "output_type": "stream",
     "text": [
      "Cross-validation scores: [0.9056345  0.84023999 0.76459358 0.71813449 0.91893447]\n",
      "Mean cross-validation score: 0.83\n"
     ]
    }
   ],
   "source": [
    "# CV- scores\n",
    "print(\"Cross-validation scores: {}\".format(cv_scores))\n",
    "print(\"Mean cross-validation score: {:.2f}\".format(cv_scores.mean()))"
   ]
  },
  {
   "cell_type": "markdown",
   "id": "d5e13fd9",
   "metadata": {},
   "source": [
    "## Random Forest model"
   ]
  },
  {
   "cell_type": "code",
   "execution_count": 38,
   "id": "45c775d6",
   "metadata": {},
   "outputs": [],
   "source": [
    "import pandas as pd\n",
    "from sklearn.model_selection import train_test_split\n",
    "from sklearn.ensemble import RandomForestRegressor\n",
    "from sklearn.metrics import mean_squared_error, r2_score\n",
    "from sklearn.model_selection import cross_val_score"
   ]
  },
  {
   "cell_type": "code",
   "execution_count": 27,
   "id": "79e08150",
   "metadata": {},
   "outputs": [],
   "source": [
    "# selecting the relevant columns\n",
    "swire_df = swire_df[['CUSTOMER_NUMBER_BLINDED', 'PRODUCT_SOLD_BLINDED', 'BEV_CAT_DESC', 'CALORIE_CAT_DESC', 'PACK_TYPE_DESC',\n",
    "                     'PACK_SIZE_SALES_UNIT_DESCRIPTION', 'PHYSICAL_VOLUME', 'DISCOUNT', 'INVOICE_PRICE', 'DEAD_NET',\n",
    "                     'GEO_LONGITUDE', 'GEO_LATITUDE', 'CUSTOMER_ACTIVITY_CLUSTER_DESCRIPTION',\n",
    "                     'CUSTOMER_TRADE_CHANNEL_DESCRIPTION', 'CUSTOMER_SUB_TRADE_CHANNEL_DESCRIPTION', \n",
    "                     'BUSINESS_TYPE_EXTENSION_DESCRIPTION', 'CUSTOMER_TRADE_CHANNEL_DESCRIPTION2', \n",
    "                     'MARKET_DESCRIPTION', 'COLD_DRINK_CHANNEL_DESCRIPTION']]\n"
   ]
  },
  {
   "cell_type": "code",
   "execution_count": 28,
   "id": "f50bbb2c",
   "metadata": {},
   "outputs": [],
   "source": [
    "# Dropping irrelevant columns\n",
    "swire_df.drop(['CUSTOMER_NUMBER_BLINDED', 'PRODUCT_SOLD_BLINDED', 'BEV_CAT_DESC', 'CALORIE_CAT_DESC', 'GEO_LONGITUDE', \n",
    "               'GEO_LATITUDE', 'CUSTOMER_ACTIVITY_CLUSTER_DESCRIPTION', 'CUSTOMER_SUB_TRADE_CHANNEL_DESCRIPTION', \n",
    "               'BUSINESS_TYPE_EXTENSION_DESCRIPTION', 'CUSTOMER_TRADE_CHANNEL_DESCRIPTION2'], axis=1, inplace=True)\n"
   ]
  },
  {
   "cell_type": "code",
   "execution_count": 29,
   "id": "2b1f46e4",
   "metadata": {},
   "outputs": [],
   "source": [
    "#converting categorical variables to numerical using one-hot encoding\n",
    "swire_df = pd.get_dummies(swire_df, columns=['PACK_TYPE_DESC', 'PACK_SIZE_SALES_UNIT_DESCRIPTION', \n",
    "                                             'CUSTOMER_TRADE_CHANNEL_DESCRIPTION', 'MARKET_DESCRIPTION', \n",
    "                                             'COLD_DRINK_CHANNEL_DESCRIPTION'])"
   ]
  },
  {
   "cell_type": "code",
   "execution_count": 30,
   "id": "88d247d6",
   "metadata": {},
   "outputs": [],
   "source": [
    "# splitting the data into training and testing sets\n",
    "X = swire_df.drop(['PHYSICAL_VOLUME'], axis=1)\n",
    "y = swire_df['PHYSICAL_VOLUME']\n",
    "X_train, X_test, y_train, y_test = train_test_split(X, y, test_size=0.2, random_state=42)"
   ]
  },
  {
   "cell_type": "code",
   "execution_count": 31,
   "id": "a88d7b5c",
   "metadata": {},
   "outputs": [],
   "source": [
    "# creating the random forest regressor object\n",
    "rf = RandomForestRegressor(n_estimators=100, random_state=42)"
   ]
  },
  {
   "cell_type": "code",
   "execution_count": 32,
   "id": "e1ed8803",
   "metadata": {},
   "outputs": [
    {
     "data": {
      "text/plain": [
       "RandomForestRegressor(random_state=42)"
      ]
     },
     "execution_count": 32,
     "metadata": {},
     "output_type": "execute_result"
    }
   ],
   "source": [
    "# training the model on training data\n",
    "rf.fit(X_train, y_train)"
   ]
  },
  {
   "cell_type": "code",
   "execution_count": 33,
   "id": "9cf05163",
   "metadata": {},
   "outputs": [],
   "source": [
    "# making predictions on testing data\n",
    "y_pred = rf.predict(X_test)\n"
   ]
  },
  {
   "cell_type": "code",
   "execution_count": 34,
   "id": "6d4ad58b",
   "metadata": {},
   "outputs": [],
   "source": [
    "# evaluating the model using mean squared error and r2 score\n",
    "mse = mean_squared_error(y_test, y_pred)\n",
    "r2 = r2_score(y_test, y_pred)"
   ]
  },
  {
   "cell_type": "code",
   "execution_count": 35,
   "id": "5e69e391",
   "metadata": {},
   "outputs": [
    {
     "name": "stdout",
     "output_type": "stream",
     "text": [
      "Mean Squared Error: 12435.475962030925\n",
      "R2 Score: 0.9476657890404367\n"
     ]
    }
   ],
   "source": [
    "print(\"Mean Squared Error:\", mse)\n",
    "print(\"R2 Score:\", r2)"
   ]
  },
  {
   "cell_type": "markdown",
   "id": "1f112902",
   "metadata": {},
   "source": [
    "### random forest classifier builds decision trees on different samples and takes their majority vote for classification and average in case of regression. This is a better model to apply over linear regression and the MSE value of 12345.475 and R-squared value of 0.947 indicates that the model has been able to give better output while including categorical variables."
   ]
  },
  {
   "cell_type": "code",
   "execution_count": 36,
   "id": "7cdcddc8",
   "metadata": {},
   "outputs": [],
   "source": [
    "# define the random forest model\n",
    "rf_model = RandomForestRegressor(n_estimators=100, random_state=42)"
   ]
  },
  {
   "cell_type": "code",
   "execution_count": 39,
   "id": "e677f0b8",
   "metadata": {},
   "outputs": [],
   "source": [
    "# perform cross-validation with 5 folds\n",
    "scores = cross_val_score(rf_model, X_train, y_train, cv=5)\n"
   ]
  },
  {
   "cell_type": "code",
   "execution_count": 40,
   "id": "3728c1c1",
   "metadata": {},
   "outputs": [
    {
     "name": "stdout",
     "output_type": "stream",
     "text": [
      "Cross-validation scores: [0.95473531 0.97709998 0.87520157 0.97730165 0.90621945]\n",
      "Mean score: 0.9381115921172591\n",
      "Standard deviation: 0.04076047872485086\n"
     ]
    }
   ],
   "source": [
    "print(\"Cross-validation scores:\", scores)\n",
    "print(\"Mean score:\", scores.mean())\n",
    "print(\"Standard deviation:\", scores.std())"
   ]
  }
 ],
 "metadata": {
  "kernelspec": {
   "display_name": "Python 3 (ipykernel)",
   "language": "python",
   "name": "python3"
  },
  "language_info": {
   "codemirror_mode": {
    "name": "ipython",
    "version": 3
   },
   "file_extension": ".py",
   "mimetype": "text/x-python",
   "name": "python",
   "nbconvert_exporter": "python",
   "pygments_lexer": "ipython3",
   "version": "3.9.16"
  }
 },
 "nbformat": 4,
 "nbformat_minor": 5
}
